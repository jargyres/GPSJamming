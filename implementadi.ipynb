{
 "cells": [
  {
   "cell_type": "code",
   "execution_count": null,
   "metadata": {},
   "outputs": [],
   "source": [
    "from ADI import ADI\n",
    "import time\n",
    "import numpy as np\n",
    "import ctypes\n",
    "from classical_doa import arrays, signals\n",
    "import matplotlib.pyplot as plt\n",
    "from classical_doa.algorithm.music import music\n",
    "from scipy.signal import find_peaks\n",
    "\n"
   ]
  },
  {
   "cell_type": "code",
   "execution_count": null,
   "metadata": {},
   "outputs": [],
   "source": [
    "def plot_spatial_spectrum(spectrum, ground_truth, angle_grids,\n",
    "                          peak_threshold=0.5, x_label=\"Angle\",\n",
    "                          y_label=\"Spectrum\"):\n",
    "    \"\"\"Plot spatial spectrum\n",
    "\n",
    "    Args:\n",
    "        spectrum: Spatial spectrum estimated by the algorithm\n",
    "        ground_truth: True incident angles\n",
    "        angle_grids: Angle grids corresponding to the spatial spectrum\n",
    "        peak_threshold: Threshold used to find peaks in normalized spectrum\n",
    "        x_label: x-axis label\n",
    "        y_label: y-axis label\n",
    "    \"\"\"\n",
    "    spectrum = spectrum / np.max(spectrum)\n",
    "    # find peaks and peak heights\n",
    "    peaks_idx, heights = find_peaks(spectrum,\n",
    "                                    height=peak_threshold)\n",
    "    angles = angle_grids[peaks_idx]\n",
    "    heights = heights[\"peak_heights\"]\n",
    "\n",
    "    fig = plt.figure()\n",
    "    ax = fig.add_subplot(1, 1, 1)\n",
    "\n",
    "    # set ticks\n",
    "    grids_min = angle_grids[0]\n",
    "    grids_max = angle_grids[-1]\n",
    "    major_space = (grids_max - grids_min + 1) / 6\n",
    "    minor_space = major_space / 5\n",
    "    ax.set_xlim(grids_min, grids_max)\n",
    "    ax.xaxis.set_major_locator(plt.MultipleLocator(major_space))\n",
    "    ax.xaxis.set_minor_locator(plt.MultipleLocator(minor_space))\n",
    "\n",
    "    # plot spectrum\n",
    "    ax.plot(angle_grids, spectrum)\n",
    "    ax.set_yscale('log')\n",
    "\n",
    "    # plot peaks\n",
    "    ax.scatter(angles, heights, color=\"red\", marker=\"x\")\n",
    "    for i, angle in enumerate(angles):\n",
    "        ax.annotate(angle, xy=(angle, heights[i]))\n",
    "\n",
    "    # ground truth\n",
    "    for angle in ground_truth:\n",
    "        ax.axvline(x=angle, color=\"green\", linestyle=\"--\")\n",
    "\n",
    "    # set labels\n",
    "    ax.legend([\"Spectrum\", \"Estimated\", \"Ground Truth\"])\n",
    "\n",
    "    ax.set_xlabel(x_label)\n",
    "    ax.set_ylabel(y_label)\n",
    "\n",
    "    plt.show()"
   ]
  },
  {
   "cell_type": "code",
   "execution_count": null,
   "metadata": {},
   "outputs": [],
   "source": [
    "sdr = ADI()"
   ]
  },
  {
   "cell_type": "code",
   "execution_count": null,
   "metadata": {},
   "outputs": [],
   "source": [
    "freq = int(3e9)\n",
    "\n",
    "sdr.set_rf_frequency(freq)\n",
    "\n",
    "sdr.set_samplerate(30e6)"
   ]
  },
  {
   "cell_type": "code",
   "execution_count": null,
   "metadata": {},
   "outputs": [],
   "source": [
    "data = sdr.receive([0, 1, 2, 3])"
   ]
  },
  {
   "cell_type": "code",
   "execution_count": null,
   "metadata": {},
   "outputs": [],
   "source": [
    "sdr.plot_revieved(data)\n",
    "sdr.plotTimeDomain(data)"
   ]
  },
  {
   "cell_type": "code",
   "execution_count": null,
   "metadata": {},
   "outputs": [],
   "source": [
    "\n"
   ]
  },
  {
   "cell_type": "code",
   "execution_count": null,
   "metadata": {},
   "outputs": [],
   "source": [
    "ula = arrays.UniformLinearArray(m=4, dd=0.062)\n",
    "\n",
    "received_data = data.copy()"
   ]
  },
  {
   "cell_type": "code",
   "execution_count": null,
   "metadata": {},
   "outputs": [],
   "source": [
    "\n",
    "angle_grids = np.arange(-90, 90, 1)\n",
    "\n",
    "\n",
    "spectrum = music(received_data=received_data, num_signal=1, array=ula, signal_fre=freq, angle_grids=angle_grids, unit='deg')\n",
    "\n",
    "\n",
    "plot_spatial_spectrum(spectrum=spectrum, ground_truth=np.array([0]),\n",
    "                      angle_grids=angle_grids)"
   ]
  }
 ],
 "metadata": {
  "kernelspec": {
   "display_name": "gpsvenv",
   "language": "python",
   "name": "python3"
  },
  "language_info": {
   "codemirror_mode": {
    "name": "ipython",
    "version": 3
   },
   "file_extension": ".py",
   "mimetype": "text/x-python",
   "name": "python",
   "nbconvert_exporter": "python",
   "pygments_lexer": "ipython3",
   "version": "3.10.12"
  }
 },
 "nbformat": 4,
 "nbformat_minor": 2
}
